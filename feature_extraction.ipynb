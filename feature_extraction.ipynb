{
 "cells": [
  {
   "cell_type": "markdown",
   "id": "b62ae826-e6c6-40b8-be35-cc86ff999ec2",
   "metadata": {},
   "source": [
    "# Advanced NLP"
   ]
  },
  {
   "cell_type": "markdown",
   "id": "012f747f-7a72-4a7a-a16b-5107aca519ec",
   "metadata": {},
   "source": [
    "*Notebook for Assignment 1 of Advanced NLP - Group 2 by Simone Colombo, Sophie van Duin, Iris Lau & Romera Voerman*"
   ]
  },
  {
   "cell_type": "markdown",
   "id": "a6e5341d-b652-4a86-8ac1-4afa323a321c",
   "metadata": {},
   "source": [
    "This notebook includes code that extracts the features proposed in part b) of the Syntax section. This includes: \n",
    "* The full constituent starting from a head word\n",
    "* A feature including the head of a target word\n",
    "* A feature including the dependent(s) of target word\n",
    "* A feature based on dependency relations (e.g. paths, relation to head, etc.)"
   ]
  },
  {
   "cell_type": "code",
   "execution_count": null,
   "id": "aef3baf4-ee4e-49b1-a547-67edf6b100da",
   "metadata": {},
   "outputs": [],
   "source": []
  },
  {
   "cell_type": "code",
   "execution_count": null,
   "id": "72b4d765-9083-4a7c-9585-dead0ec2fe03",
   "metadata": {},
   "outputs": [],
   "source": []
  }
 ],
 "metadata": {
  "kernelspec": {
   "display_name": "Python 3 (ipykernel)",
   "language": "python",
   "name": "python3"
  },
  "language_info": {
   "codemirror_mode": {
    "name": "ipython",
    "version": 3
   },
   "file_extension": ".py",
   "mimetype": "text/x-python",
   "name": "python",
   "nbconvert_exporter": "python",
   "pygments_lexer": "ipython3",
   "version": "3.10.1"
  }
 },
 "nbformat": 4,
 "nbformat_minor": 5
}
